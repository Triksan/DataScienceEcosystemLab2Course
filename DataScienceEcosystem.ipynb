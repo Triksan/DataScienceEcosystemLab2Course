{
 "cells": [
  {
   "cell_type": "markdown",
   "id": "19592856-8e08-4b1b-8dc9-42539109411a",
   "metadata": {},
   "source": [
    "# Data Science Tools and Ecosystem"
   ]
  },
  {
   "cell_type": "markdown",
   "id": "e2275a60-2fab-4cec-a31c-af1dc7ce386d",
   "metadata": {},
   "source": [
    "In this notebook, Data Science Tools and Ecosystem are summarized."
   ]
  },
  {
   "cell_type": "markdown",
   "id": "9b6f477b-f3a6-4e43-8e0c-18588c233b24",
   "metadata": {},
   "source": [
    "**Objectives:**\n",
    "- List popular languages for Data Science\n",
    "- List commonly used libraries used for Data Science\n",
    "- List Data Science Tools\n",
    "- A few examples of evaluating arithmetic expressions in Python"
   ]
  },
  {
   "cell_type": "markdown",
   "id": "383a4722-f843-4c70-a63c-9b1f5639f179",
   "metadata": {},
   "source": [
    "**Some of the popular languages that Data Scientists use are:**\n",
    "1. Python\n",
    "2. Java\n",
    "3. C++\n",
    "4. C"
   ]
  },
  {
   "cell_type": "markdown",
   "id": "aa6ca63b-6679-424d-9c2b-369960aade98",
   "metadata": {},
   "source": [
    "**Some of the commonly used libraries used by Data Scientists include:**\n",
    "1. Keras\n",
    "2. TensorFlow\n",
    "3. NumPy\n",
    "4. Pandas\n",
    "5. Seaborn\n",
    "    "
   ]
  },
  {
   "cell_type": "markdown",
   "id": "f69695fc-0cba-4ee5-b3e7-1fa56a679c71",
   "metadata": {},
   "source": [
    "| Data Science Tools |\n",
    "| ------ |\n",
    "| Jupyter Notebook |\n",
    "| RStudio |\n",
    "| Visual Studio Code |"
   ]
  },
  {
   "cell_type": "markdown",
   "id": "7062bd3b-7a12-4390-9ddd-8ce87cd197f5",
   "metadata": {},
   "source": [
    "### Below are a few examples of evaluating arithmetic expressions in Python"
   ]
  },
  {
   "cell_type": "code",
   "execution_count": 3,
   "id": "ebe23b68-9e88-41ef-b78a-23a064339363",
   "metadata": {},
   "outputs": [
    {
     "data": {
      "text/plain": [
       "17"
      ]
     },
     "execution_count": 3,
     "metadata": {},
     "output_type": "execute_result"
    }
   ],
   "source": [
    "# This a simple arithmetic expression to mutiply then add integers\n",
    "(3*4)+5"
   ]
  },
  {
   "cell_type": "code",
   "execution_count": 4,
   "id": "195caa10-dc69-46d5-b4da-0fc1f4f3f4a5",
   "metadata": {},
   "outputs": [
    {
     "data": {
      "text/plain": [
       "3.3333333333333335"
      ]
     },
     "execution_count": 4,
     "metadata": {},
     "output_type": "execute_result"
    }
   ],
   "source": [
    "#  This will convert 200 minutes to hours by diving by 60\n",
    "200/60"
   ]
  },
  {
   "cell_type": "markdown",
   "id": "35e681cd-e4ae-428a-b73b-fed0bc804580",
   "metadata": {},
   "source": [
    "## Author\n",
    "Ksenia Trinus"
   ]
  },
  {
   "cell_type": "code",
   "execution_count": null,
   "id": "22388021-313a-43e8-bc05-ce6bef467b66",
   "metadata": {},
   "outputs": [],
   "source": []
  }
 ],
 "metadata": {
  "kernelspec": {
   "display_name": "Python 3 (ipykernel)",
   "language": "python",
   "name": "python3"
  },
  "language_info": {
   "codemirror_mode": {
    "name": "ipython",
    "version": 3
   },
   "file_extension": ".py",
   "mimetype": "text/x-python",
   "name": "python",
   "nbconvert_exporter": "python",
   "pygments_lexer": "ipython3",
   "version": "3.12.8"
  }
 },
 "nbformat": 4,
 "nbformat_minor": 5
}
